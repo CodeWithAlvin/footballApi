{
 "cells": [
  {
   "cell_type": "code",
   "execution_count": null,
   "source": [
    "import requests\r\n",
    "from bs4 import BeautifulSoup\r\n",
    "import re"
   ],
   "outputs": [],
   "metadata": {}
  },
  {
   "cell_type": "code",
   "execution_count": null,
   "source": [
    "url = \"https://www.espn.in/football/fixtures/_/date/20211007\"\r\n",
    "# date in format yyyyddmm"
   ],
   "outputs": [],
   "metadata": {}
  },
  {
   "cell_type": "code",
   "execution_count": null,
   "source": [
    "r = requests.get(url)"
   ],
   "outputs": [],
   "metadata": {}
  },
  {
   "cell_type": "code",
   "execution_count": 4,
   "source": [
    "soup = BeautifulSoup(r.text, 'lxml')"
   ],
   "outputs": [],
   "metadata": {}
  },
  {
   "cell_type": "code",
   "execution_count": 5,
   "source": [
    "leauge_names = soup.find_all(\"h2\",attrs={\"class\":\"table-caption\"})"
   ],
   "outputs": [],
   "metadata": {}
  },
  {
   "cell_type": "code",
   "execution_count": 31,
   "source": [
    "for leauge in leauge_names:\r\n",
    "    lg_name = leauge.text\r\n",
    "    raw_data = leauge.next_sibling.findAll(\"tr\",attrs={\"class\":[\"odd\",\"even\"]})\r\n",
    "\r\n",
    "    print(lg_name)\r\n",
    "    for item in raw_data:\r\n",
    "        names = [abbr.get(\"title\") for abbr in item.find_all(\"abbr\")]\r\n",
    "        images = [img.get(\"src\") for img in item.find_all(\"img\")]\r\n",
    "        timing = [date.get(\"data-date\") for date in item.find_all(\"td\",attrs={\"data-behavior\":\"date_time\"})]\r\n",
    "        print(names,images,timing)\r\n",
    "    \r\n",
    "    print(\"\\n\\n\")\r\n",
    "        \r\n",
    "    "
   ],
   "outputs": [
    {
     "output_type": "stream",
     "name": "stdout",
     "text": [
      "UEFA Nations League\n",
      "['Italy', 'Spain'] ['https://a.espncdn.com/combiner/i?img=/i/teamlogos/countries/500/ita.png&h=50', 'https://a.espncdn.com/combiner/i?img=/i/teamlogos/countries/500/esp.png&h=50'] ['2021-10-06T18:45Z']\n",
      "\n",
      "\n",
      "\n",
      "FIFA World Cup Qualifying - CAF\n",
      "['Sudan', 'Guinea'] ['https://a.espncdn.com/combiner/i?img=/i/teamlogos/countries/500/sud.png&h=50', 'https://a.espncdn.com/combiner/i?img=/i/teamlogos/countries/500/gui.png&h=50'] ['2021-10-06T16:00Z']\n",
      "['Morocco', 'Guinea-Bissau'] ['https://a.espncdn.com/combiner/i?img=/i/teamlogos/countries/500/mar.png&h=50', 'https://a.espncdn.com/combiner/i?img=/i/teamlogos/countries/500/gnb.png&h=50'] ['2021-10-06T19:00Z']\n",
      "\n",
      "\n",
      "\n",
      "UEFA Women's Champions League\n",
      "['Servette', 'Juventus'] ['https://a.espncdn.com/combiner/i?img=/i/teamlogos/soccer/500/20835.png&h=50', 'https://a.espncdn.com/combiner/i?img=/i/teamlogos/soccer/500/20092.png&h=50'] ['2021-10-06T16:45Z']\n",
      "['WFC Kharkiv', 'Real Madrid'] ['https://a.espncdn.com/combiner/i?img=/i/teamlogos/soccer/500/21125.png&h=50', 'https://a.espncdn.com/combiner/i?img=/i/teamlogos/soccer/500/21128.png&h=50'] ['2021-10-06T16:45Z']\n",
      "['Breidablik', 'Paris Saint-Germain'] ['https://a.espncdn.com/combiner/i?img=/i/teamlogos/soccer/500/20112.png&h=50', 'https://a.espncdn.com/combiner/i?img=/i/teamlogos/soccer/500/19258.png&h=50'] ['2021-10-06T19:00Z']\n",
      "['Chelsea', 'VfL Wolfsburg'] ['https://a.espncdn.com/combiner/i?img=/i/teamlogos/soccer/500/19970.png&h=50', 'https://a.espncdn.com/combiner/i?img=/i/teamlogos/soccer/500/20107.png&h=50'] ['2021-10-06T19:00Z']\n",
      "\n",
      "\n",
      "\n",
      "Thai League 1\n",
      "['Bangkok United', 'PT Prachuap'] ['https://a.espncdn.com/combiner/i?img=/i/teamlogos/soccer/500/7522.png&h=50', 'https://a.espncdn.com/combiner/i?img=/i/teamlogos/soccer/500/default-team-logo-500.png&h=25'] ['2021-10-06T11:00Z']\n",
      "['BG Pathum United', 'Chiangrai United'] ['https://a.espncdn.com/combiner/i?img=/i/teamlogos/soccer/500/8519.png&h=50', 'https://a.espncdn.com/combiner/i?img=/i/teamlogos/soccer/500/default-team-logo-500.png&h=25'] ['2021-10-06T11:00Z']\n",
      "['Buriram United', 'Samut Prakan City'] ['https://a.espncdn.com/combiner/i?img=/i/teamlogos/soccer/500/7138.png&h=50', 'https://a.espncdn.com/combiner/i?img=/i/teamlogos/soccer/500/default-team-logo-500.png&h=25'] ['2021-10-06T12:00Z']\n",
      "['Khon Kaen United', 'Nakhonratchasima'] ['https://a.espncdn.com/combiner/i?img=/i/teamlogos/soccer/500/default-team-logo-500.png&h=25', 'https://a.espncdn.com/combiner/i?img=/i/teamlogos/soccer/500/17759.png&h=50'] ['2021-10-06T12:00Z']\n",
      "\n",
      "\n",
      "\n",
      "Singaporean Premier League\n",
      "['Balestier Khalsa', 'Hougang United'] ['https://a.espncdn.com/combiner/i?img=/i/teamlogos/soccer/500/7939.png&h=50', 'https://a.espncdn.com/combiner/i?img=/i/teamlogos/soccer/500/17736.png&h=50'] ['2021-10-06T11:45Z']\n",
      "\n",
      "\n",
      "\n",
      "Scottish League Challenge Cup\n",
      "['Hamilton Academical', 'Aberdeen B'] ['https://a.espncdn.com/combiner/i?img=/i/teamlogos/soccer/500/409.png&h=50', 'https://a.espncdn.com/combiner/i?img=/i/teamlogos/soccer/500/default-team-logo-500.png&h=25'] ['2021-10-06T18:45Z']\n",
      "\n",
      "\n",
      "\n",
      "Copa Argentina\n",
      "['Godoy Cruz Antonio Tomba', 'Tigre'] ['https://a.espncdn.com/combiner/i?img=/i/teamlogos/soccer/500/6756.png&h=50', 'https://a.espncdn.com/combiner/i?img=/i/teamlogos/soccer/500/7767.png&h=50'] ['2021-10-07T00:10Z']\n",
      "\n",
      "\n",
      "\n",
      "Brazilian Serie A\n",
      "['Atlético-GO', 'Athletico-PR'] ['https://a.espncdn.com/combiner/i?img=/i/teamlogos/soccer/500/10357.png&h=50', 'https://a.espncdn.com/combiner/i?img=/i/teamlogos/soccer/500/3458.png&h=50'] ['2021-10-06T22:00Z']\n",
      "['Ceará', 'Internacional'] ['https://a.espncdn.com/combiner/i?img=/i/teamlogos/soccer/500/9969.png&h=50', 'https://a.espncdn.com/combiner/i?img=/i/teamlogos/soccer/500/1936.png&h=50'] ['2021-10-06T22:00Z']\n",
      "['Chapecoense', 'Atlético-MG'] ['https://a.espncdn.com/combiner/i?img=/i/teamlogos/soccer/500/9318.png&h=50', 'https://a.espncdn.com/combiner/i?img=/i/teamlogos/soccer/500/7632.png&h=50'] ['2021-10-06T22:00Z']\n",
      "['Sport', 'Juventude'] ['https://a.espncdn.com/combiner/i?img=/i/teamlogos/soccer/500/7635.png&h=50', 'https://a.espncdn.com/combiner/i?img=/i/teamlogos/soccer/500/6270.png&h=50'] ['2021-10-06T22:00Z']\n",
      "['Red Bull Bragantino', 'Flamengo'] ['https://a.espncdn.com/combiner/i?img=/i/teamlogos/soccer/500/6079.png&h=50', 'https://a.espncdn.com/combiner/i?img=/i/teamlogos/soccer/500/819.png&h=50'] ['2021-10-06T23:30Z']\n",
      "['América-MG', 'Palmeiras'] ['https://a.espncdn.com/combiner/i?img=/i/teamlogos/soccer/500/6154.png&h=50', 'https://a.espncdn.com/combiner/i?img=/i/teamlogos/soccer/500/2029.png&h=50'] ['2021-10-07T00:30Z']\n",
      "['Fluminense', 'Fortaleza'] ['https://a.espncdn.com/combiner/i?img=/i/teamlogos/soccer/500/3445.png&h=50', 'https://a.espncdn.com/combiner/i?img=/i/teamlogos/soccer/500/6272.png&h=50'] ['2021-10-07T00:30Z']\n",
      "['Grêmio', 'Cuiabá'] ['https://a.espncdn.com/combiner/i?img=/i/teamlogos/soccer/500/6273.png&h=50', 'https://a.espncdn.com/combiner/i?img=/i/teamlogos/soccer/500/17313.png&h=50'] ['2021-10-07T00:30Z']\n",
      "\n",
      "\n",
      "\n",
      "Brazilian Serie B\n",
      "['Brasil de Pelotas', 'Operario PR'] ['https://a.espncdn.com/combiner/i?img=/i/teamlogos/soccer/500/17134.png&h=50', 'https://a.espncdn.com/combiner/i?img=/i/teamlogos/soccer/500/18187.png&h=50'] ['2021-10-06T19:00Z']\n",
      "\n",
      "\n",
      "\n",
      "Copa Colombia\n",
      "['Deportes Tolima', 'Deportivo Pereira'] ['https://a.espncdn.com/combiner/i?img=/i/teamlogos/soccer/500/5489.png&h=50', 'https://a.espncdn.com/combiner/i?img=/i/teamlogos/soccer/500/5486.png&h=50'] ['2021-10-06T23:00Z']\n",
      "[] [] []\n",
      "['Deportivo Cali', 'Atlético Nacional'] ['https://a.espncdn.com/combiner/i?img=/i/teamlogos/soccer/500/2672.png&h=50', 'https://a.espncdn.com/combiner/i?img=/i/teamlogos/soccer/500/5264.png&h=50'] ['2021-10-07T01:00Z']\n",
      "[] [] []\n",
      "\n",
      "\n",
      "\n",
      "Chilean Primera División\n",
      "['Universidad Católica', 'Unión Española'] ['https://a.espncdn.com/combiner/i?img=/i/teamlogos/soccer/500/885.png&h=50', 'https://a.espncdn.com/combiner/i?img=/i/teamlogos/soccer/500/4132.png&h=50'] ['2021-10-06T23:30Z']\n",
      "\n",
      "\n",
      "\n",
      "Venezuelan Primera Profesional\n",
      "['Mineros de Guayana', 'Metropolitanos FC'] ['https://a.espncdn.com/combiner/i?img=/i/teamlogos/soccer/500/17093.png&h=50', 'https://a.espncdn.com/combiner/i?img=/i/teamlogos/soccer/500/13481.png&h=50'] ['2021-10-06T21:15Z']\n",
      "['Academia Puerto Cabello', 'Aragua'] ['https://a.espncdn.com/combiner/i?img=/i/teamlogos/soccer/500/18995.png&h=50', 'https://a.espncdn.com/combiner/i?img=/i/teamlogos/soccer/500/6036.png&h=50'] ['2021-10-06T23:30Z']\n",
      "\n",
      "\n",
      "\n",
      "Mexican Liga de Expansión MX\n",
      "['Celaya', 'Cimarrones de Sonora'] ['https://a.espncdn.com/combiner/i?img=/i/teamlogos/soccer/500/11667.png&h=50', 'https://a.espncdn.com/combiner/i?img=/i/teamlogos/soccer/500/17853.png&h=50'] ['2021-10-06T22:00Z']\n",
      "['Pumas Tabasco', 'U. de G.'] ['https://a.espncdn.com/combiner/i?img=/i/teamlogos/soccer/500/default-team-logo-500.png&h=25', 'https://a.espncdn.com/combiner/i?img=/i/teamlogos/soccer/500/10129.png&h=50'] ['2021-10-07T00:05Z']\n",
      "['Dorados de Sinaloa', 'Tepatitlán FC'] ['https://a.espncdn.com/combiner/i?img=/i/teamlogos/soccer/500/3432.png&h=50', 'https://a.espncdn.com/combiner/i?img=/i/teamlogos/soccer/500/default-team-logo-500.png&h=25'] ['2021-10-07T02:05Z']\n",
      "\n",
      "\n",
      "\n",
      "Guatemalan Liga Nacional\n",
      "['Comunicaciones', 'Xelaju'] ['https://a.espncdn.com/combiner/i?img=/i/teamlogos/soccer/500/7257.png&h=50', 'https://a.espncdn.com/combiner/i?img=/i/teamlogos/soccer/500/7259.png&h=50'] ['2021-10-06T17:00Z']\n",
      "\n",
      "\n",
      "\n"
     ]
    }
   ],
   "metadata": {}
  },
  {
   "cell_type": "code",
   "execution_count": null,
   "source": [],
   "outputs": [],
   "metadata": {}
  }
 ],
 "metadata": {
  "orig_nbformat": 4,
  "language_info": {
   "name": "python",
   "version": "3.9.6",
   "mimetype": "text/x-python",
   "codemirror_mode": {
    "name": "ipython",
    "version": 3
   },
   "pygments_lexer": "ipython3",
   "nbconvert_exporter": "python",
   "file_extension": ".py"
  },
  "kernelspec": {
   "name": "python3",
   "display_name": "Python 3.9.6 64-bit"
  },
  "interpreter": {
   "hash": "ac59ebe37160ed0dfa835113d9b8498d9f09ceb179beaac4002f036b9467c963"
  }
 },
 "nbformat": 4,
 "nbformat_minor": 2
}